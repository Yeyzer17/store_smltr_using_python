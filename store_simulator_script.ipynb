{
 "cells": [
  {
   "cell_type": "markdown",
   "metadata": {},
   "source": [
    "Store Simulator"
   ]
  },
  {
   "cell_type": "markdown",
   "metadata": {},
   "source": [
    "Inventory\n",
    "\n",
    "Price & stock"
   ]
  },
  {
   "cell_type": "code",
   "execution_count": 1,
   "metadata": {},
   "outputs": [],
   "source": [
    "inventory = {\n",
    "    \"mouse razer\": [89.90, 10],\n",
    "    \"audifonos sony\": [29.90, 8],\n",
    "    \"microfono razer\": [149.90, 3],\n",
    "    \"pantalla dell\": [319.90, 4],\n",
    "    \"laptop toshiba\": [400.90, 5],\n",
    "    \"tarjeta grafica 3060\": [599.90, 8],\n",
    "    \"laptop asus rog\": [649.90, 7],\n",
    "    \"PS5\": [699.90, 3],\n",
    "    \"Steamdeck\": [900.90, 5],\n",
    "    \"laptop alienware\": [2999.90, 2]\n",
    "}"
   ]
  },
  {
   "cell_type": "code",
   "execution_count": 2,
   "metadata": {},
   "outputs": [],
   "source": [
    "# Creamos la función display_inventory\n",
    "def display_inventory():\n",
    "    print(\"Lista de Productos:\")\n",
    "    print(\"{:<15} {:<10} {:<10}\".format(\"Producto\", \"Precio\", \"Cantidad\"))\n",
    "    print(\"-\" * 35)\n",
    "\n",
    "    for producto, info in inventory.items():\n",
    "        precio, cantidad = info\n",
    "        print(\"{:<15} {:<10.2f} {:<10}\".format(producto, precio, cantidad))\n"
   ]
  },
  {
   "cell_type": "code",
   "execution_count": 3,
   "metadata": {},
   "outputs": [],
   "source": [
    "# Creamos la función purchase_product\n",
    "def purchase_product():\n",
    "    # Solicitar al usuario el nombre del producto y la cantidad que desea comprar\n",
    "    product_name = input(\"¿Qué desea comprar?: \")\n",
    "    quantity = int(input(f\"Ingrese la cantidad de '{product_name}' que desea comprar: \"))\n",
    "\n",
    "    # Verificamos si el producto existe en el inventario\n",
    "    if product_name in inventory:\n",
    "        # Obtener el precio y la cantidad disponible del producto\n",
    "        price, available_quantity = inventory[product_name]\n",
    "\n",
    "        # Verificar si hay suficiente cantidad en inventario\n",
    "        if quantity <= available_quantity:\n",
    "            # Calcular el precio total\n",
    "            total_price = price * quantity\n",
    "\n",
    "            # Mostrar el precio total\n",
    "            print(f\"El precio total de {quantity} '{product_name}' es: S/{total_price}\")\n",
    "\n",
    "            # Actualizar la cantidad en inventario\n",
    "            inventory[product_name][1] -= quantity\n",
    "\n",
    "            # Actualizar el registro de ventas\n",
    "            update_sales_record(product_name, quantity)\n",
    "        else:\n",
    "            print(f\"Lo sentimos, por ahora no contamos con '{product_name}' en stock.\")\n",
    "    else:\n",
    "        print(f\"'{product_name}' no está disponible en la tienda.\")"
   ]
  },
  {
   "cell_type": "markdown",
   "metadata": {},
   "source": [
    "Sales Report"
   ]
  },
  {
   "cell_type": "code",
   "execution_count": 4,
   "metadata": {},
   "outputs": [],
   "source": [
    "sales_record = {}\n",
    "def update_sales_record(producto, cantidad):\n",
    "    # Obtener la fecha actual (podemos utilizar la biblioteca datetime para esto)\n",
    "    from datetime import datetime\n",
    "    fecha_actual = datetime.now().strftime(\"%Y-%m-%d\")\n",
    "\n",
    "    # Verificar si la fecha ya existe en el registro de ventas\n",
    "    if fecha_actual in sales_record:\n",
    "        # Verificar si el producto ya está registrado\n",
    "        if producto in sales_record[fecha_actual]:\n",
    "            # Actualiza la cantidad vendida del producto\n",
    "            sales_record[fecha_actual][producto] += cantidad\n",
    "        else:\n",
    "            # Agrega el producto a la fecha existente con la cantidad correspondiente\n",
    "            sales_record[fecha_actual][producto] = cantidad\n",
    "    else:\n",
    "        # Agrega la fecha con el producto y la cantidad correspondientes\n",
    "        sales_record[fecha_actual] = {producto: cantidad}"
   ]
  },
  {
   "cell_type": "markdown",
   "metadata": {},
   "source": [
    "Generate Report"
   ]
  },
  {
   "cell_type": "code",
   "execution_count": 5,
   "metadata": {},
   "outputs": [],
   "source": [
    "def generate_sales_report():\n",
    "    print(\"Informe de Ventas:\")\n",
    "    \n",
    "    total_store_income = 0  # Inicializa el ingreso total de la tienda\n",
    "    \n",
    "    for fecha, ventas in sales_record.items():\n",
    "        print(f\"Fecha: {fecha}\")\n",
    "        \n",
    "        for producto, cantidad in ventas.items():\n",
    "            # Obtiene el precio del producto desde el inventario\n",
    "            precio, _ = inventory.get(producto, [0, 0])  # Si el producto no existe, se establece el precio en 0\n",
    "            \n",
    "            # Calcula los ingresos por producto\n",
    "            ingresos_producto = precio * cantidad\n",
    "            total_store_income += ingresos_producto\n",
    "            \n",
    "            print(f\"Producto: {producto}, Cantidad Vendida: {cantidad}, Ingresos: S/{ingresos_producto}\")\n",
    "    \n",
    "    # Muestra el ingreso total de la tienda\n",
    "    print(f\"Ingreso Total de la Tienda: S/{total_store_income}\")"
   ]
  },
  {
   "cell_type": "markdown",
   "metadata": {},
   "source": [
    "Menu"
   ]
  },
  {
   "cell_type": "code",
   "execution_count": 6,
   "metadata": {},
   "outputs": [
    {
     "name": "stdout",
     "output_type": "stream",
     "text": [
      "\n",
      "Menú de Opciones:\n",
      "1. Mostrar Inventario\n",
      "2. Comprar Producto\n",
      "3. Generar Informe de Ventas\n",
      "4. Salir\n",
      "Lista de Productos:\n",
      "Producto        Precio     Cantidad  \n",
      "-----------------------------------\n",
      "mouse razer     89.90      10        \n",
      "audifonos sony  29.90      8         \n",
      "microfono razer 149.90     3         \n",
      "pantalla dell   319.90     4         \n",
      "laptop toshiba  400.90     5         \n",
      "tarjeta grafica 3060 599.90     8         \n",
      "laptop asus rog 649.90     7         \n",
      "PS5             699.90     3         \n",
      "Steamdeck       900.90     5         \n",
      "laptop alienware 2999.90    2         \n",
      "\n",
      "Menú de Opciones:\n",
      "1. Mostrar Inventario\n",
      "2. Comprar Producto\n",
      "3. Generar Informe de Ventas\n",
      "4. Salir\n",
      "Saliendo del programa.\n"
     ]
    }
   ],
   "source": [
    "while True:\n",
    "    print(\"\\nMenú de Opciones:\")\n",
    "    print(\"1. Mostrar Inventario\")\n",
    "    print(\"2. Comprar Producto\")\n",
    "    print(\"3. Generar Informe de Ventas\")\n",
    "    print(\"4. Salir\")\n",
    "    \n",
    "    # Paso 2: Solicitar al usuario que elija una opción\n",
    "    opcion = input(\"Elija una opción (1/2/3/4): \")\n",
    "    \n",
    "    # Paso 3: Implementar las opciones del menú\n",
    "    if opcion == \"1\":\n",
    "        # Opción: Mostrar Inventario\n",
    "        display_inventory()\n",
    "    elif opcion == \"2\":\n",
    "        # Opción: Comprar Producto\n",
    "        purchase_product()\n",
    "    elif opcion == \"3\":\n",
    "        # Opción: Generar Informe de Ventas\n",
    "        generate_sales_report()\n",
    "    elif opcion == \"4\":\n",
    "        # Opción: Salir\n",
    "        print(\"Saliendo del programa.\")\n",
    "        break\n",
    "    else:\n",
    "        print (\"Por favor, elija una opción válida.\")"
   ]
  }
 ],
 "metadata": {
  "kernelspec": {
   "display_name": "Python 3",
   "language": "python",
   "name": "python3"
  },
  "language_info": {
   "codemirror_mode": {
    "name": "ipython",
    "version": 3
   },
   "file_extension": ".py",
   "mimetype": "text/x-python",
   "name": "python",
   "nbconvert_exporter": "python",
   "pygments_lexer": "ipython3",
   "version": "3.9.13"
  },
  "orig_nbformat": 4
 },
 "nbformat": 4,
 "nbformat_minor": 2
}
